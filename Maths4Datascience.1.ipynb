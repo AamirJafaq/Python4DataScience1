{
 "cells": [
  {
   "cell_type": "markdown",
   "id": "58bf4b16",
   "metadata": {},
   "source": [
    "# VECTORS"
   ]
  },
  {
   "cell_type": "markdown",
   "id": "c80bd2f7",
   "metadata": {},
   "source": [
    "Vectors are ordered arrays of numbers. In notation, vectors are denoted with lower case bold letters such as  𝐱\n",
    " . The elements of a vector are all the same type. A vector does not, for example, contain both characters and numbers. The number of elements in the array is often referred to as the dimension though mathematicians may prefer rank. In math settings, indexes typically run from 1 to n. In computer science and these labs, indexing will typically run from 0 to n-1."
   ]
  },
  {
   "cell_type": "markdown",
   "id": "b9add7fd",
   "metadata": {},
   "source": [
    " In Python, the NumPy library provides multiple ways to create vectors such as using numpy.array, numpy.zeros, numpy.arange, numpy.ones, numpy.linspace and many more"
   ]
  },
  {
   "cell_type": "code",
   "execution_count": 2,
   "id": "1c99aaed",
   "metadata": {},
   "outputs": [],
   "source": [
    "import numpy as np"
   ]
  },
  {
   "cell_type": "code",
   "execution_count": 7,
   "id": "856f5859",
   "metadata": {},
   "outputs": [
    {
     "data": {
      "text/plain": [
       "array([0., 0., 0., 0.])"
      ]
     },
     "execution_count": 7,
     "metadata": {},
     "output_type": "execute_result"
    }
   ],
   "source": [
    "v=np.zeros(4)           #creat a zero vector of dimension four\n",
    "v"
   ]
  },
  {
   "cell_type": "code",
   "execution_count": 10,
   "id": "43b4e41e",
   "metadata": {},
   "outputs": [
    {
     "data": {
      "text/plain": [
       "array([1.  , 1.25, 1.5 , 1.75, 2.  ])"
      ]
     },
     "execution_count": 10,
     "metadata": {},
     "output_type": "execute_result"
    }
   ],
   "source": [
    "v=np.linspace(1,2,5)    #generates a vector with evenly spaced numbers between a start and stop value.\n",
    "v"
   ]
  },
  {
   "cell_type": "code",
   "execution_count": 15,
   "id": "d9e9aa57",
   "metadata": {},
   "outputs": [
    {
     "data": {
      "text/plain": [
       "array([2. , 2.5, 3. , 3.5, 4. , 4.5])"
      ]
     },
     "execution_count": 15,
     "metadata": {},
     "output_type": "execute_result"
    }
   ],
   "source": [
    "v=np.arange(2,5,0.5)    #this function generates a sequence of numbers with a specified range and step size.\n",
    "v"
   ]
  },
  {
   "cell_type": "code",
   "execution_count": 18,
   "id": "c19fdb16",
   "metadata": {},
   "outputs": [
    {
     "data": {
      "text/plain": [
       "array([1, 2, 3, 4, 5])"
      ]
     },
     "execution_count": 18,
     "metadata": {},
     "output_type": "execute_result"
    }
   ],
   "source": [
    "v=np.array([1,2,3,4,5])    #this will create a vector by directly defining its elements\n",
    "v"
   ]
  },
  {
   "cell_type": "markdown",
   "id": "31224d76",
   "metadata": {},
   "source": [
    "We can get the shape of the vector using shape attribute."
   ]
  },
  {
   "cell_type": "code",
   "execution_count": 20,
   "id": "5e2203ee",
   "metadata": {},
   "outputs": [
    {
     "data": {
      "text/plain": [
       "(5,)"
      ]
     },
     "execution_count": 20,
     "metadata": {},
     "output_type": "execute_result"
    }
   ],
   "source": [
    "v.shape"
   ]
  },
  {
   "cell_type": "markdown",
   "id": "ed7304eb",
   "metadata": {},
   "source": [
    "# Indexing and slicing"
   ]
  },
  {
   "cell_type": "markdown",
   "id": "48f2e15a",
   "metadata": {},
   "source": [
    "Elements of vectors can be accessed via indexing and slicing. \n",
    "Indexing means referring to an element of an array by its position within the array.\n",
    "Slicing means getting a subset of elements from an array based on their indices. We can creat a slice of vector using a set of three values (start:stop:step)."
   ]
  },
  {
   "cell_type": "code",
   "execution_count": 45,
   "id": "3d1a057d",
   "metadata": {},
   "outputs": [
    {
     "data": {
      "text/plain": [
       "14"
      ]
     },
     "execution_count": 45,
     "metadata": {},
     "output_type": "execute_result"
    }
   ],
   "source": [
    "v=np.array([2,4,6,8,10,12,14])\n",
    "v[-1]        #this will access the last element of the vector. "
   ]
  },
  {
   "cell_type": "code",
   "execution_count": 46,
   "id": "fae580ba",
   "metadata": {},
   "outputs": [
    {
     "data": {
      "text/plain": [
       "array([ 4,  6,  8, 10])"
      ]
     },
     "execution_count": 46,
     "metadata": {},
     "output_type": "execute_result"
    }
   ],
   "source": [
    "v[1:5]       #this will access the elements from second position to 4th position"
   ]
  },
  {
   "cell_type": "code",
   "execution_count": 50,
   "id": "38293e76",
   "metadata": {},
   "outputs": [
    {
     "data": {
      "text/plain": [
       "array([ 2,  6, 10, 14])"
      ]
     },
     "execution_count": 50,
     "metadata": {},
     "output_type": "execute_result"
    }
   ],
   "source": [
    "v[0:7:2]     #this will access the elements from first position to 6th position separated by two."
   ]
  },
  {
   "cell_type": "code",
   "execution_count": 52,
   "id": "94192485",
   "metadata": {},
   "outputs": [
    {
     "data": {
      "text/plain": [
       "array([ 8, 10, 12, 14])"
      ]
     },
     "execution_count": 52,
     "metadata": {},
     "output_type": "execute_result"
    }
   ],
   "source": [
    "v[3:]     #this will access all the elements above fourth position inclusive"
   ]
  },
  {
   "cell_type": "markdown",
   "id": "06fb5994",
   "metadata": {},
   "source": [
    "If we want to access the elements from the last position, we can use negative indexes."
   ]
  },
  {
   "cell_type": "markdown",
   "id": "63bf2609",
   "metadata": {},
   "source": [
    "# Single vector operations"
   ]
  },
  {
   "cell_type": "markdown",
   "id": "2b763491",
   "metadata": {},
   "source": [
    "There are a number of useful operations that involve operations on a single vector."
   ]
  },
  {
   "cell_type": "code",
   "execution_count": 53,
   "id": "447cecc2",
   "metadata": {},
   "outputs": [
    {
     "data": {
      "text/plain": [
       "array([ 2,  4,  6,  8, 10, 12, 14])"
      ]
     },
     "execution_count": 53,
     "metadata": {},
     "output_type": "execute_result"
    }
   ],
   "source": [
    "v"
   ]
  },
  {
   "cell_type": "code",
   "execution_count": 55,
   "id": "b389e4df",
   "metadata": {},
   "outputs": [
    {
     "data": {
      "text/plain": [
       "56"
      ]
     },
     "execution_count": 55,
     "metadata": {},
     "output_type": "execute_result"
    }
   ],
   "source": [
    "np.sum(v)    #this will provide the sum of all the elements of the vector"
   ]
  },
  {
   "cell_type": "markdown",
   "id": "5e0a21cf",
   "metadata": {},
   "source": [
    "Likewise, we can use other methods such as np.mean, np.max, np.min and many more"
   ]
  },
  {
   "cell_type": "markdown",
   "id": "d75ae90c",
   "metadata": {},
   "source": [
    "# Vector vector element-wise operations"
   ]
  },
  {
   "cell_type": "markdown",
   "id": "bcf46057",
   "metadata": {},
   "source": [
    "We can add, subtract, scalar multiplication, dot product and many more"
   ]
  },
  {
   "cell_type": "code",
   "execution_count": 83,
   "id": "8a75b3ac",
   "metadata": {},
   "outputs": [],
   "source": [
    "a = np.array([1, 2, 3, 4])\n",
    "b = 5 * a                    #this is scalar multiplication"
   ]
  },
  {
   "cell_type": "code",
   "execution_count": 84,
   "id": "b7c73d45",
   "metadata": {},
   "outputs": [
    {
     "data": {
      "text/plain": [
       "array([ 6, 12, 18, 24])"
      ]
     },
     "execution_count": 84,
     "metadata": {},
     "output_type": "execute_result"
    }
   ],
   "source": [
    "c=a+b                           #this is addition of two vectors. Likewise, we can subtract two vectos\n",
    "c"
   ]
  },
  {
   "cell_type": "markdown",
   "id": "f4eeb375",
   "metadata": {},
   "source": [
    "We can find dot product using the method np.dot. We can also find the manually using loops."
   ]
  },
  {
   "cell_type": "code",
   "execution_count": 85,
   "id": "5d608f18",
   "metadata": {},
   "outputs": [
    {
     "data": {
      "text/plain": [
       "150"
      ]
     },
     "execution_count": 85,
     "metadata": {},
     "output_type": "execute_result"
    }
   ],
   "source": [
    "c=np.dot(a,b)                    \n",
    "c "
   ]
  },
  {
   "cell_type": "code",
   "execution_count": 93,
   "id": "f92c8c74",
   "metadata": {},
   "outputs": [
    {
     "data": {
      "text/plain": [
       "150"
      ]
     },
     "execution_count": 93,
     "metadata": {},
     "output_type": "execute_result"
    }
   ],
   "source": [
    "def dot_prod(a,b):\n",
    "    d=0\n",
    "    for i, j in zip(a, b):\n",
    "        k=i*j\n",
    "        d=d+k\n",
    "    return d \n",
    "dot_prod(a,b)"
   ]
  },
  {
   "cell_type": "markdown",
   "id": "6cf9b843",
   "metadata": {},
   "source": [
    "# MATRICES"
   ]
  },
  {
   "cell_type": "markdown",
   "id": "7be3fd69",
   "metadata": {},
   "source": [
    "Matrices, are two dimensional arrays. The elements of a matrix are all of the same type. The elements of a matrix can be referenced with a two dimensional index. In math settings, numbers in the index typically run from 1 to n. In computer science and these labs, indexing will run from 0 to n-1."
   ]
  },
  {
   "cell_type": "markdown",
   "id": "728bb7a4",
   "metadata": {},
   "source": [
    "We can create matrices in the same way as vectors, manually and using builtin functions"
   ]
  },
  {
   "cell_type": "code",
   "execution_count": 97,
   "id": "0f7f0546",
   "metadata": {},
   "outputs": [
    {
     "data": {
      "text/plain": [
       "array([[0., 0.],\n",
       "       [0., 0.]])"
      ]
     },
     "execution_count": 97,
     "metadata": {},
     "output_type": "execute_result"
    }
   ],
   "source": [
    "x=np.zeros((2,2))\n",
    "x"
   ]
  },
  {
   "cell_type": "code",
   "execution_count": 98,
   "id": "c256d7f6",
   "metadata": {},
   "outputs": [
    {
     "data": {
      "text/plain": [
       "array([[1., 1.],\n",
       "       [1., 1.]])"
      ]
     },
     "execution_count": 98,
     "metadata": {},
     "output_type": "execute_result"
    }
   ],
   "source": [
    "x=np.ones((2,2))\n",
    "x"
   ]
  },
  {
   "cell_type": "code",
   "execution_count": 100,
   "id": "b887ae3e",
   "metadata": {},
   "outputs": [
    {
     "data": {
      "text/plain": [
       "array([[0.75100977, 0.91156661],\n",
       "       [0.06780164, 0.28683356],\n",
       "       [0.41179412, 0.42920189]])"
      ]
     },
     "execution_count": 100,
     "metadata": {},
     "output_type": "execute_result"
    }
   ],
   "source": [
    "x=np.random.random_sample((3, 2))\n",
    "x"
   ]
  },
  {
   "cell_type": "code",
   "execution_count": 108,
   "id": "c6d93122",
   "metadata": {},
   "outputs": [
    {
     "data": {
      "text/plain": [
       "(array([[1, 2, 3, 4],\n",
       "        [2, 4, 6, 8],\n",
       "        [1, 3, 5, 7]]),\n",
       " (3, 4))"
      ]
     },
     "execution_count": 108,
     "metadata": {},
     "output_type": "execute_result"
    }
   ],
   "source": [
    "x=np.array([[1,2,3,4],\n",
    "            [2,4,6,8], \n",
    "           [1,3,5,7]])\n",
    "x, x.shape"
   ]
  },
  {
   "cell_type": "markdown",
   "id": "5bd869d3",
   "metadata": {},
   "source": [
    "We can also reshape one dimensional vector into higher dimensional vector using reshape method."
   ]
  },
  {
   "cell_type": "code",
   "execution_count": 113,
   "id": "4add1e62",
   "metadata": {},
   "outputs": [
    {
     "data": {
      "text/plain": [
       "array([[0, 1, 2, 3, 4],\n",
       "       [5, 6, 7, 8, 9]])"
      ]
     },
     "execution_count": 113,
     "metadata": {},
     "output_type": "execute_result"
    }
   ],
   "source": [
    "v=np.arange(10)\n",
    "y=v.reshape(2,5)\n",
    "y"
   ]
  },
  {
   "cell_type": "markdown",
   "id": "290397a5",
   "metadata": {},
   "source": [
    "# Indexing and slicing"
   ]
  },
  {
   "cell_type": "markdown",
   "id": "696d630e",
   "metadata": {},
   "source": [
    "Matrices use two indexes to access an element, row or column. The two indexes describe [row, column]. Access can either return an element or a row/column."
   ]
  },
  {
   "cell_type": "code",
   "execution_count": 109,
   "id": "8f2627b2",
   "metadata": {},
   "outputs": [
    {
     "data": {
      "text/plain": [
       "array([[1, 2, 3, 4],\n",
       "       [2, 4, 6, 8],\n",
       "       [1, 3, 5, 7]])"
      ]
     },
     "execution_count": 109,
     "metadata": {},
     "output_type": "execute_result"
    }
   ],
   "source": [
    "x"
   ]
  },
  {
   "cell_type": "code",
   "execution_count": 115,
   "id": "b8f6bad8",
   "metadata": {},
   "outputs": [
    {
     "data": {
      "text/plain": [
       "(array([1, 2, 3, 4]), array([2, 4, 6, 8]))"
      ]
     },
     "execution_count": 115,
     "metadata": {},
     "output_type": "execute_result"
    }
   ],
   "source": [
    "x[0], x[1]          #this access the first and second row respectively"
   ]
  },
  {
   "cell_type": "code",
   "execution_count": 117,
   "id": "30083646",
   "metadata": {},
   "outputs": [
    {
     "data": {
      "text/plain": [
       "array([1, 3, 5, 7])"
      ]
     },
     "execution_count": 117,
     "metadata": {},
     "output_type": "execute_result"
    }
   ],
   "source": [
    "x[-1]              #this access the last row of the matrix"
   ]
  },
  {
   "cell_type": "code",
   "execution_count": 119,
   "id": "8aca9771",
   "metadata": {},
   "outputs": [
    {
     "data": {
      "text/plain": [
       "4"
      ]
     },
     "execution_count": 119,
     "metadata": {},
     "output_type": "execute_result"
    }
   ],
   "source": [
    "x[1,1]          #this access the element of second row and second column"
   ]
  },
  {
   "cell_type": "code",
   "execution_count": 125,
   "id": "a6be34d6",
   "metadata": {},
   "outputs": [
    {
     "data": {
      "text/plain": [
       "(array([1, 2, 1]), array([4, 8, 7]))"
      ]
     },
     "execution_count": 125,
     "metadata": {},
     "output_type": "execute_result"
    }
   ],
   "source": [
    "x[:,0], x[:,-1]           #this access the first column and last column of the matrix"
   ]
  },
  {
   "cell_type": "markdown",
   "id": "6cd4f2d2",
   "metadata": {},
   "source": [
    "We can slice or access an element a matrix using a set of three values (start:stop:step).  "
   ]
  },
  {
   "cell_type": "code",
   "execution_count": 130,
   "id": "400500ba",
   "metadata": {},
   "outputs": [
    {
     "data": {
      "text/plain": [
       "array([[1, 3],\n",
       "       [2, 6],\n",
       "       [1, 5]])"
      ]
     },
     "execution_count": 130,
     "metadata": {},
     "output_type": "execute_result"
    }
   ],
   "source": [
    "x[:, 0:3:2]       #this access all the rows and columns from first to third column with step two."
   ]
  },
  {
   "cell_type": "code",
   "execution_count": 132,
   "id": "0873ec9b",
   "metadata": {},
   "outputs": [
    {
     "data": {
      "text/plain": [
       "array([[6, 8],\n",
       "       [5, 7]])"
      ]
     },
     "execution_count": 132,
     "metadata": {},
     "output_type": "execute_result"
    }
   ],
   "source": [
    "x[1:3,2:4]        #thiss access the elements in rows, second and third row and columns, third and fourth.  "
   ]
  },
  {
   "cell_type": "code",
   "execution_count": 134,
   "id": "f0487def",
   "metadata": {},
   "outputs": [
    {
     "data": {
      "text/plain": [
       "array([[1, 2, 3, 4],\n",
       "       [2, 4, 6, 8],\n",
       "       [1, 3, 5, 7]])"
      ]
     },
     "execution_count": 134,
     "metadata": {},
     "output_type": "execute_result"
    }
   ],
   "source": [
    "x[:,:]         #this gives all the elements, original matrix."
   ]
  },
  {
   "cell_type": "code",
   "execution_count": null,
   "id": "3c3fec9e",
   "metadata": {},
   "outputs": [],
   "source": []
  }
 ],
 "metadata": {
  "kernelspec": {
   "display_name": "Python 3 (ipykernel)",
   "language": "python",
   "name": "python3"
  },
  "language_info": {
   "codemirror_mode": {
    "name": "ipython",
    "version": 3
   },
   "file_extension": ".py",
   "mimetype": "text/x-python",
   "name": "python",
   "nbconvert_exporter": "python",
   "pygments_lexer": "ipython3",
   "version": "3.11.5"
  }
 },
 "nbformat": 4,
 "nbformat_minor": 5
}
